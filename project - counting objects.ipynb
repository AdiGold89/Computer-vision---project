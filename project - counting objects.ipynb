{
 "cells": [
  {
   "cell_type": "markdown",
   "metadata": {},
   "source": [
    "# Computer Vision: Final Project\n",
    "\n",
    "Submitted by: [ **Adi Goldraich and Rotem Hayut** ]\n"
   ]
  },
  {
   "cell_type": "code",
   "execution_count": 3,
   "metadata": {},
   "outputs": [],
   "source": [
    "import numpy as np\n",
    "import time\n",
    "import imutils\n",
    "import cv2"
   ]
  },
  {
   "cell_type": "markdown",
   "metadata": {},
   "source": [
    "### Counting Items:\n",
    "\n",
    "In our priject we created a system that counts all the people entering and leaving the front (and only) entrance of a building.\n",
    "In this way in a case of emergency (fire for example) the evacuation forces will know how many people were in the building in order to know if there are people in danger."
   ]
  },
  {
   "cell_type": "code",
   "execution_count": 4,
   "metadata": {},
   "outputs": [],
   "source": [
    "avg = None\n",
    "video = cv2.VideoCapture(\"entrance.mp4\")\n",
    "xvalues = list()\n",
    "motion = list()\n",
    "count1 = 24  #the number of people in the building we defined, starts the count of \"In\"\n",
    "count2 = 0   #starts the count of \"Out\"\n",
    "\n",
    "def find_majority(k):\n",
    "    myMap = {}\n",
    "    maximum = ( '', 0 ) #occurring element\n",
    "    for n in k:\n",
    "        if n in myMap: myMap[n] += 1\n",
    "        else: myMap[n] = 1\n",
    "        if myMap[n] > maximum[1]: maximum = (n,myMap[n])   # Keep track of maximum on the go\n",
    "    return maximum\n",
    "\n",
    "while 1:\n",
    "    ret, frame = video.read()\n",
    "    if ret==True:\n",
    "        flag = True\n",
    "        text=\"\"\n",
    "\n",
    "        frame = cv2.resize(frame,(640,360))\n",
    "        gray = cv2.cvtColor(frame, cv2.COLOR_BGR2GRAY)\n",
    "        gray = cv2.GaussianBlur(gray, (21, 21), 0)\n",
    "\n",
    "        if avg is None:\n",
    "            avg = gray.copy().astype(\"float\")\n",
    "            continue\n",
    "\n",
    "        cv2.accumulateWeighted(gray, avg, 0.5)\n",
    "        frameDelta = cv2.absdiff(gray, cv2.convertScaleAbs(avg))\n",
    "        thresh = cv2.threshold(frameDelta, 5, 255, cv2.THRESH_BINARY)[1]\n",
    "        thresh = cv2.dilate(thresh, None, iterations=2)\n",
    "        (_, cnts, _) = cv2.findContours(thresh.copy(), cv2.RETR_EXTERNAL, cv2.CHAIN_APPROX_SIMPLE)\n",
    "    \n",
    "        for c in cnts:\n",
    "            if cv2.contourArea(c) < 5000:\n",
    "                continue\n",
    "            (x, y, w, h) = cv2.boundingRect(c)\n",
    "            xvalues.append(x)\n",
    "            cv2.rectangle(frame, (x, y), (x + w, y + h), (0, 0, 255), 2)\n",
    "            flag = False\n",
    "        no_x = len(xvalues)\n",
    "    \n",
    "        if (no_x > 2):\n",
    "            difference = xvalues[no_x - 1] - xvalues[no_x - 2]\n",
    "            if(difference > 0):\n",
    "                motion.append(1)\n",
    "            else:\n",
    "                motion.append(0)\n",
    "\n",
    "        if flag is True:\n",
    "            if (no_x > 5):\n",
    "                val, times = find_majority(motion)\n",
    "                if val == 1 and times >= 15:\n",
    "                    count1 += 1\n",
    "                else:\n",
    "                    count2 += 1\n",
    "                \n",
    "            xvalues = list()\n",
    "            motion = list()\n",
    "            \n",
    "#adding text and drawing on the frame:\n",
    "        cv2.line(frame, (470, 0), (440,480), (0,255,0), 2)\n",
    "        cv2.putText(frame, \"People in the building:\", (10, 20), cv2.FONT_HERSHEY_SIMPLEX, 0.5, (0, 0, 255), 2)\n",
    "\n",
    "        cv2.putText(frame, \"In: {}\".format(count1), (10, 40), cv2.FONT_HERSHEY_SIMPLEX, 0.5, (0, 0, 255), 2)\n",
    "        cv2.putText(frame, \"Out: {}\".format(count2), (10, 60), cv2.FONT_HERSHEY_SIMPLEX, 0.5, (0, 0, 255), 2)\n",
    "        cv2.putText(frame, \"Total: {}\".format(count1-count2), (10, 80), cv2.FONT_HERSHEY_SIMPLEX, 0.5, (0, 0, 255), 2)\n",
    "        cv2.imshow(\"Security Camera\",frame)\n",
    "\n",
    "    \n",
    "        if (cv2.waitKey(1) & 0xff == 27): # ESC key pressed?\n",
    "            break\n",
    "    else:\n",
    "        break\n",
    "\n",
    "    \n",
    "video.release()\n",
    "cv2.destroyAllWindows()"
   ]
  },
  {
   "cell_type": "markdown",
   "metadata": {},
   "source": [
    "## Thank You!"
   ]
  },
  {
   "cell_type": "code",
   "execution_count": null,
   "metadata": {},
   "outputs": [],
   "source": []
  }
 ],
 "metadata": {
  "kernelspec": {
   "display_name": "Python 3",
   "language": "python",
   "name": "python3"
  },
  "language_info": {
   "codemirror_mode": {
    "name": "ipython",
    "version": 3
   },
   "file_extension": ".py",
   "mimetype": "text/x-python",
   "name": "python",
   "nbconvert_exporter": "python",
   "pygments_lexer": "ipython3",
   "version": "3.7.5"
  }
 },
 "nbformat": 4,
 "nbformat_minor": 2
}
